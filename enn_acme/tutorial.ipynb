{
  "cells": [
    {
      "cell_type": "markdown",
      "metadata": {
        "id": "eRrAUUu-t-O2"
      },
      "source": [
        "# ENN Acme \n",
        "\n",
        "`enn_acme` provides tools for research in reinforcement learning based around epistemic neural networks.\n",
        "\n",
        "This library is built upon two core pieces:\n",
        "- `enn`: [github](https://github.com/deepmind/enn), [paper](https://arxiv.org/abs/2107.08924)\n",
        "- `acme`: [github](https://github.com/deepmind/acme), [paper](https://arxiv.org/abs/2006.00979)\n",
        "\n",
        "**Before moving forward with this tutorial we strongly recommend you familiarize yourself with those libraries.**\n",
        "\n",
        "If you just want to focus on learning from code, then this is a netural progression\n",
        "1. [`jax`](https://github.com/google/jax): core machine learning framework\n",
        "2. [`haiku`](https://github.com/deepmind/dm-haiku): neural network library\n",
        "3. [`enn`](https://github.com/deepmind/dm-haiku): epistemic neural networks in haiku.\n",
        "4. [`acme`](https://github.com/deepmind/acme): high-level building blocks for RL agents\n",
        "5. [`rlax`](https://github.com/deepmind/rlax): useful functions in agent development.\n",
        "\n",
        "**This tutorial colab is meant to give you an example of piecing those underlying libraries together with `enn_acme`.**"
      ]
    },
    {
      "cell_type": "markdown",
      "metadata": {
        "id": "2-P2NSrX74Vt"
      },
      "source": [
        "## Imports\n",
        "\n"
      ]
    },
    {
      "cell_type": "code",
      "execution_count": null,
      "metadata": {
        "id": "qXOubWdlH9C0"
      },
      "outputs": [],
      "source": [
        "#@title General imports\n",
        "\n",
        "import dataclasses\n",
        "import warnings\n",
        "\n",
        "import chex\n",
        "import haiku\n",
        "import jax\n",
        "import jax.numpy as jnp\n",
        "import numpy as np\n",
        "import pandas as pd\n",
        "import plotnine as gg\n",
        "\n",
        "warnings.filterwarnings('ignore')\n"
      ]
    },
    {
      "cell_type": "code",
      "execution_count": null,
      "metadata": {
        "id": "xdHprvaOI5cb"
      },
      "outputs": [],
      "source": [
        "from typing import Tuple\n",
        "\n",
        "from acme import types\n",
        "from enn import base as enn_base\n",
        "from enn import losses\n",
        "from enn import networks\n",
        "from enn import utils\n",
        "import enn_acme\n",
        "from enn_acme import base\n",
        "from enn_acme import agents\n",
        "from enn_acme import losses as agent_losses\n",
        "from enn_acme import planners\n",
        "from enn_acme.losses import single_index\n",
        "import haiku as hk\n",
        "import jax\n",
        "import jax.numpy as jnp\n",
        "import reverb\n",
        "import rlax\n"
      ]
    },
    {
      "cell_type": "markdown",
      "metadata": {
        "id": "c7CvU_0Tqx1f"
      },
      "source": [
        "## High level overview\n",
        "\n",
        "`enn_acme` is built for research with two high level concepts, outlined in `base.py`.\n",
        "\n",
        "1. **`EnnPlanner`**: selects actions based on an ENN knowledge representation.\n",
        "  - `enn`: epistemic neural network at construction\n",
        "  - `select_action`: takes in parameters, observation and outputs an action.\n",
        "  - `observe_first`: [optional] updates planner based on first step of environment.\n",
        "  - `observe`: [optional] updates planner based on first step of the environment.\n",
        "\n",
        "2. **`LossFn`**: defines how to process one batch of data, for one random key. This function takes:\n",
        "  - `enn`: epistemic neural network.\n",
        "  - `params`: parameters for knowledge representation, and for which we will take gradient steps.\n",
        "  - `state`: `LearnerState`\n",
        "  - `batch`: a reverb replay sample\n",
        "  - `key`: a random key.\n",
        "\n",
        "Intuitively, the `EnnPlanner` contains the code for action selection given a knowledge representation (e.g. $\\epsilon$-greedy or Thompson sampling).\n",
        "The `LossFn` describes how the agent updates its beliefs given observed data.\n",
        "\n",
        "**For many research questions these should be the only pieces of code that you need to edit.**\n",
        "- We provide example `EnnPlanner`s in the `planners/` folder.\n",
        "- We provide example `LossFn`s in the `losses/` folder.\n",
        "\n"
      ]
    },
    {
      "cell_type": "code",
      "execution_count": null,
      "metadata": {
        "id": "JoqMQhhOoDZO"
      },
      "outputs": [],
      "source": [
        "#@title Example random planner\n",
        "from acme import specs\n",
        "from acme.jax import utils\n",
        "from enn import base as enn_base\n",
        "from enn_acme import base as agent_base\n",
        "import haiku as hk\n",
        "import jax\n",
        "\n",
        "\n",
        "class RandomPlanner(agent_base.EnnPlanner):\n",
        "  \"\"\"A planner selects actions randomly.\"\"\"\n",
        "\n",
        "  def __init__(self,\n",
        "               enn: enn_base.EpistemicNetwork,\n",
        "               environment_spec: specs.EnvironmentSpec,\n",
        "               seed: int = 0):\n",
        "    self.enn = enn\n",
        "    self.num_actions = environment_spec.actions.num_values\n",
        "    self.rng = hk.PRNGSequence(seed)\n",
        "\n",
        "  def select_action(self,\n",
        "                    params: hk.Params,\n",
        "                    observation: enn_base.Array) -\u003e agent_base.Action:\n",
        "    \"\"\"Selects an action given params and observation.\"\"\"\n",
        "    action = jax.random.choice(next(self.rng), self.num_actions)\n",
        "    return utils.to_numpy_squeeze(action)"
      ]
    },
    {
      "cell_type": "code",
      "execution_count": null,
      "metadata": {
        "id": "FcIX0dMy_kYs"
      },
      "outputs": [],
      "source": [
        "#@title Example Q-learning loss forwarding a single index.\n",
        "\n",
        "@dataclasses.dataclass\n",
        "class QLearning(agent_base.LossFn):\n",
        "  \"\"\"Q learning loss implemented in enn_acme format.\"\"\"\n",
        "  discount: float = 0.99\n",
        "  \n",
        "  def __call__(self,\n",
        "               enn: enn_base.EpistemicNetwork,\n",
        "               params: hk.Params,\n",
        "               state: agent_base.LearnerState,\n",
        "               batch: reverb.ReplaySample,\n",
        "               key: enn_base.RngKey) -\u003e Tuple[enn_base.Array, agent_base.LossMetrics]:\n",
        "    \"\"\"Compute the loss on a single batch of data, for one index.\"\"\"\n",
        "    # Parse transitions, forward ENN index\n",
        "    transitions: types.Transition = batch.data\n",
        "    index = enn.indexer(key)\n",
        "\n",
        "    # Parse q values\n",
        "    net_out_tm1 = enn.apply(params, transitions.observation, index)\n",
        "    q_tm1 = utils.parse_net_output(net_out_tm1)\n",
        "    net_out_t = apply(state.target_params, transitions.next_observation, index)\n",
        "    q_t = utils.parse_net_output(net_out_t)\n",
        "\n",
        "    # Return mean TD error\n",
        "    d_t = (transitions.discount * self.discount).astype(jnp.float32)\n",
        "    r_t = jnp.float32(transitions.reward)\n",
        "    td_errors = jax.vmap(rlax.q_learning)(q_tm1, transitions.action, r_t, d_t, q_t)\n",
        "\n",
        "    return jnp.mean(jnp.square(td_errors)), {}"
      ]
    },
    {
      "cell_type": "markdown",
      "metadata": {
        "id": "ewgLaa0hABm8"
      },
      "source": [
        "## Example agent on bsuite\n",
        "\n",
        "In this section we provide example evaluation of a benchmark agent on [`bsuite`](https://github.com/deepmind/bsuite).\n",
        "\n",
        "\u003e `bsuite` is a collection of carefully-designed experiments that investigate core capabilities of a reinforcement learning (RL) agent.\n",
        "\n",
        "\n"
      ]
    },
    {
      "cell_type": "code",
      "execution_count": null,
      "metadata": {
        "executionInfo": {
          "elapsed": 56,
          "status": "ok",
          "timestamp": 1653064130164,
          "user": {
            "displayName": "",
            "userId": ""
          },
          "user_tz": 420
        },
        "id": "xBhHgxc1ADIO",
        "outputId": "aafc0cdf-272e-41b5-c222-1ab84f29ea4b"
      },
      "outputs": [
        {
          "name": "stdout",
          "output_type": "stream",
          "text": [
            "\u001b[1m\u001b[37mLoaded bsuite_id: catch/0.\u001b[0m\n",
            "\u001b[1m\u001b[33mLogging results to CSV file for each bsuite_id in /tmp/bsuite/dqn.\u001b[0m\n"
          ]
        }
      ],
      "source": [
        "#@title  Load an environment from bsuite, and wrap it for Acme\n",
        "from acme import specs\n",
        "from acme import wrappers\n",
        "from bsuite import bsuite\n",
        "\n",
        "SAVE_PATH = '/tmp/bsuite/dqn'\n",
        "env = bsuite.load_and_record_to_csv('catch/0', SAVE_PATH, overwrite=True)\n",
        "env = wrappers.SinglePrecisionWrapper(env)\n",
        "spec = specs.make_environment_spec(env)"
      ]
    },
    {
      "cell_type": "markdown",
      "metadata": {
        "id": "JDissrQJBZek"
      },
      "source": [
        "We define a simple single process agent in terms of:\n",
        "- `enn`: epistemic network\n",
        "- `EnnPlanner`: action selection\n",
        "- `LossFn`: how to update parameters.\n",
        "\n",
        "We will implement a simple version of \"bootstrapped DQN with randomized prior functions\":\n",
        "- Paper: https://arxiv.org/abs/1806.03335\n",
        "- Idea: Ensemble of networks, approximate Thompson sampling"
      ]
    },
    {
      "cell_type": "code",
      "execution_count": null,
      "metadata": {
        "id": "axxbBf8AGbl-"
      },
      "outputs": [],
      "source": [
        "#@title Define an ENN from the environment spec, note we need to flatten the observation for an MLP to work.\n",
        "def _wrap_with_flatten(\n",
        "    enn: enn_base.EpistemicNetwork) -\u003e enn_base.EpistemicNetwork:\n",
        "  \"\"\"Wraps an ENN with a flattening layer.\"\"\"\n",
        "  flatten = lambda x: jnp.reshape(x, [x.shape[0], -1])\n",
        "  return enn_base.EpistemicNetwork(\n",
        "      apply=lambda p, x, z: enn.apply(p, flatten(x), z),\n",
        "      init=lambda k, x, z: enn.init(k, flatten(x), z),\n",
        "      indexer=enn.indexer,\n",
        "  )\n",
        "\n",
        "\n",
        "def make_enn(spec: specs.EnvironmentSpec) -\u003e enn_base.EpistemicNetwork:\n",
        "  \"\"\"Creates appropriately sized enn from environment spec.\"\"\"\n",
        "  # Ensemble of size 10 with prior functions\n",
        "  enn = networks.make_ensemble_mlp_with_prior_enn(\n",
        "      output_sizes=[50, 50, spec.actions.num_values],\n",
        "      dummy_input=jnp.ones((1,) + spec.observations.shape),\n",
        "      num_ensemble=5,\n",
        "      prior_scale=1,\n",
        "      seed=77,\n",
        "  )\n",
        "  return _wrap_with_flatten(enn)\n",
        "\n",
        "enn = make_enn(spec)"
      ]
    },
    {
      "cell_type": "code",
      "execution_count": null,
      "metadata": {
        "id": "vE7N-3yVAknB"
      },
      "outputs": [],
      "source": [
        "# Config contains standard options like optimizer\n",
        "config = agents.AgentConfig(\n",
        "    n_step=1,\n",
        "    target_update_period=4,\n",
        "    batch_size=128,\n",
        ")\n",
        "\n",
        "# Define a clipped q learning loss, averaged over 10 samples\n",
        "single_loss = agent_losses.ClippedQlearning(discount=0.99)\n",
        "loss_fn = agent_losses.average_single_index_loss(single_loss, 10)\n",
        "\n",
        "# Use a thompson sampling planner.\n",
        "planner = planners.ThompsonQPlanner(enn)\n",
        "\n",
        "# Form the agent\n",
        "ensemble_agent = agents.EnnAgent(\n",
        "    environment_spec=spec,\n",
        "    enn=enn,\n",
        "    loss_fn=loss_fn,\n",
        "    planner=planner,\n",
        "    config=config,\n",
        ")"
      ]
    },
    {
      "cell_type": "markdown",
      "metadata": {
        "id": "jG5KDWTAEY3C"
      },
      "source": [
        "Now we can run that agent and plot the results"
      ]
    },
    {
      "cell_type": "code",
      "execution_count": null,
      "metadata": {
        "id": "5SHryuj5ECwX"
      },
      "outputs": [],
      "source": [
        "#@title We can see that this agent does actually learn\n",
        "import acme\n",
        "\n",
        "loop = acme.EnvironmentLoop(env, ensemble_agent)\n",
        "loop.run(num_episodes=500)"
      ]
    },
    {
      "cell_type": "code",
      "execution_count": null,
      "metadata": {
        "executionInfo": {
          "elapsed": 53,
          "status": "ok",
          "timestamp": 1653064069654,
          "user": {
            "displayName": "",
            "userId": ""
          },
          "user_tz": 420
        },
        "id": "nHr8ccpqHETI",
        "outputId": "de4062ac-cab6-469f-a24f-eddaceff5887"
      },
      "outputs": [
        {
          "name": "stdout",
          "output_type": "stream",
          "text": [
            "steps,episode,total_return,episode_len,episode_return,total_regret\n",
            "9,1,1.0,9,1.0,0.0\n",
            "18,2,2.0,9,1.0,0.0\n",
            "27,3,3.0,9,1.0,0.0\n",
            "36,4,4.0,9,1.0,0.0\n",
            "45,5,5.0,9,1.0,0.0\n",
            "54,6,6.0,9,1.0,0.0\n",
            "63,7,7.0,9,1.0,0.0\n",
            "72,8,8.0,9,1.0,0.0\n",
            "81,9,9.0,9,1.0,0.0\n",
            "90,10,10.0,9,1.0,0.0\n",
            "108,12,12.0,9,1.0,0.0\n",
            "126,14,14.0,9,1.0,0.0\n",
            "153,17,17.0,9,1.0,0.0\n",
            "180,20,20.0,9,1.0,0.0\n",
            "225,25,25.0,9,1.0,0.0\n",
            "270,30,30.0,9,1.0,0.0\n",
            "360,40,40.0,9,1.0,0.0\n",
            "450,50,50.0,9,1.0,0.0\n",
            "540,60,60.0,9,1.0,0.0\n",
            "630,70,70.0,9,1.0,0.0\n",
            "720,80,80.0,9,1.0,0.0\n",
            "810,90,90.0,9,1.0,0.0\n",
            "900,100,100.0,9,1.0,0.0\n",
            "1080,120,120.0,9,1.0,0.0\n",
            "1260,140,140.0,9,1.0,0.0\n",
            "1533,170,134.0,9,-1.0,36.0\n",
            "1803,200,114.0,9,1.0,86.0\n",
            "2253,250,116.0,9,-1.0,134.0\n",
            "2703,300,118.0,9,-1.0,182.0\n",
            "3603,400,166.0,9,-1.0,234.0\n",
            "4503,500,226.0,9,1.0,274.0\n",
            "5403,600,324.0,9,1.0,276.0\n"
          ]
        }
      ],
      "source": [
        "#@title We can see that bsuite automatically logged the data to csv.\n",
        "!cat /tmp/bsuite/dqn/bsuite_id_-_catch-0.csv"
      ]
    },
    {
      "cell_type": "code",
      "execution_count": null,
      "metadata": {
        "colab": {
          "height": 421
        },
        "executionInfo": {
          "elapsed": 509,
          "status": "ok",
          "timestamp": 1653064189669,
          "user": {
            "displayName": "",
            "userId": ""
          },
          "user_tz": 420
        },
        "id": "B4dNI8OkSiud",
        "outputId": "d9332d52-17b0-493e-d7da-c5303805469d"
      },
      "outputs": [
        {
          "data": {
            "image/png": "[encoded data removed]",
            "text/plain": [
              "\u003cFigure size 700x400 with 1 Axes\u003e"
            ]
          },
          "metadata": {},
          "output_type": "display_data"
        },
        {
          "data": {
            "text/plain": [
              "\u003cggplot: (8745372980487)\u003e"
            ]
          },
          "execution_count": 97,
          "metadata": {},
          "output_type": "execute_result"
        }
      ],
      "source": [
        "#@title Plotting the agent performance through time... it learns to obtain optimal return of 1.\n",
        "from bsuite.logging import csv_load\n",
        "DF, _ = csv_load.load_bsuite(SAVE_PATH)\n",
        "\n",
        "p = (gg.ggplot(DF)\n",
        "     + gg.aes(x='episode', y='episode_return')\n",
        "     + gg.geom_line()\n",
        "     + gg.theme(figure_size=(7, 4))\n",
        ")\n",
        "p"
      ]
    },
    {
      "cell_type": "markdown",
      "metadata": {
        "id": "bEs8ndzXGN1d"
      },
      "source": [
        "For more information on the agents, please check the source code, reach out on Github or even twitter!"
      ]
    }
  ],
  "metadata": {
    "colab": {
      "collapsed_sections": [],
      "name": "tutorial.ipynb",
      "provenance": [
      ]
    },
    "kernelspec": {
      "display_name": "Python 3",
      "language": "python",
      "name": "python3"
    },
    "pycharm": {
      "stem_cell": {
        "cell_type": "raw",
        "metadata": {
          "collapsed": false
        },
        "source": []
      }
    }
  },
  "nbformat": 4,
  "nbformat_minor": 0
}
