{
  "cells": [
    {
      "cell_type": "markdown",
      "metadata": {
        "id": "eRrAUUu-t-O2"
      },
      "source": [
        "# ENN Acme \n",
        "\n",
        "`enn_acme` provides tools for research in reinforcement learning based around epistemic neural networks.\n",
        "\n",
        "This library is built upon two core pieces:\n",
        "- `enn`: [github](https://github.com/deepmind/enn), [paper](https://arxiv.org/abs/2107.08924)\n",
        "- `acme`: [github](https://github.com/deepmind/acme), [paper](https://arxiv.org/abs/2006.00979)\n",
        "\n",
        "**Before moving forward with this tutorial we strongly recommend you familiarize yourself with those libraries.**\n",
        "\n",
        "If you just want to focus on learning from code, then this is a netural progression\n",
        "1. [`jax`](https://github.com/google/jax): core machine learning framework\n",
        "2. [`haiku`](https://github.com/deepmind/dm-haiku): neural network library\n",
        "3. [`enn`](https://github.com/deepmind/dm-haiku): epistemic neural networks in haiku.\n",
        "4. [`acme`](https://github.com/deepmind/acme): high-level building blocks for RL agents\n",
        "5. [`rlax`](https://github.com/deepmind/rlax): useful functions in agent development.\n",
        "\n",
        "**This tutorial colab is meant to give you an example of piecing those underlying libraries together with `enn_acme`.**"
      ]
    },
    {
      "cell_type": "code",
      "source": [
        "# Copyright 2022 DeepMind Technologies Limited. All Rights Reserved.\n",
        "#\n",
        "# Licensed under the Apache License, Version 2.0 (the \"License\");\n",
        "# you may not use this file except in compliance with the License.\n",
        "# You may obtain a copy of the License at\n",
        "#\n",
        "#     http://www.apache.org/licenses/LICENSE-2.0\n",
        "#\n",
        "# Unless required by applicable law or agreed to in writing, software\n",
        "# distributed under the License is distributed on an \"AS IS\" BASIS,\n",
        "# WITHOUT WARRANTIES OR CONDITIONS OF ANY KIND, either express or implied.\n",
        "# See the License for the specific language governing permissions and\n",
        "# limitations under the License.\n",
        "# ==============================================================================\n",
        "!git clone https://github.com/deepmind/enn_acme.git\n",
        "!pip install -q enn_acme/"
      ],
      "metadata": {
        "id": "gNCwhUzQ-OKd"
      },
      "execution_count": null,
      "outputs": []
    },
    {
      "cell_type": "markdown",
      "metadata": {
        "id": "2-P2NSrX74Vt"
      },
      "source": [
        "## Imports\n",
        "\n"
      ]
    },
    {
      "cell_type": "code",
      "execution_count": 3,
      "metadata": {
        "id": "qXOubWdlH9C0",
        "cellView": "form"
      },
      "outputs": [],
      "source": [
        "#@title General imports\n",
        "\n",
        "from typing import Tuple\n",
        "\n",
        "\n",
        "import dataclasses\n",
        "import warnings\n",
        "\n",
        "import chex\n",
        "import haiku\n",
        "import jax\n",
        "import jax.numpy as jnp\n",
        "import numpy as np\n",
        "import pandas as pd\n",
        "import plotnine as gg\n",
        "import haiku as hk\n",
        "import jax\n",
        "import jax.numpy as jnp\n",
        "import reverb\n",
        "import rlax\n",
        "import acme\n",
        "from acme import types\n",
        "from acme import specs\n",
        "from acme import wrappers\n",
        "from acme.jax import utils as acme_utils\n",
        "from enn import base as enn_base\n",
        "from enn import losses\n",
        "from enn import networks\n",
        "from enn import utils as enn_utils\n",
        "from bsuite import bsuite\n",
        "from bsuite.logging import csv_load as bsuite_csv_load\n",
        "\n",
        "warnings.filterwarnings('ignore')"
      ]
    },
    {
      "cell_type": "code",
      "execution_count": 4,
      "metadata": {
        "id": "xdHprvaOI5cb",
        "cellView": "form"
      },
      "outputs": [],
      "source": [
        "#@title ENN_ACME imports\n",
        "\n",
        "import enn_acme\n",
        "from enn_acme import base as agent_base\n",
        "from enn_acme import agents\n",
        "from enn_acme import losses as agent_losses\n",
        "from enn_acme import planners\n",
        "from enn_acme.losses import single_index"
      ]
    },
    {
      "cell_type": "markdown",
      "metadata": {
        "id": "c7CvU_0Tqx1f"
      },
      "source": [
        "## High level overview\n",
        "\n",
        "`enn_acme` is built for research with two high level concepts, outlined in `base.py`.\n",
        "\n",
        "1. **`EnnPlanner`**: selects actions based on an ENN knowledge representation.\n",
        "  - `enn`: epistemic neural network at construction\n",
        "  - `select_action`: takes in parameters, observation and outputs an action.\n",
        "  - `observe_first`: [optional] updates planner based on first step of environment.\n",
        "  - `observe`: [optional] updates planner based on first step of the environment.\n",
        "\n",
        "2. **`LossFn`**: defines how to process one batch of data, for one random key. This function takes:\n",
        "  - `enn`: epistemic neural network.\n",
        "  - `params`: parameters for knowledge representation, and for which we will take gradient steps.\n",
        "  - `state`: `LearnerState`\n",
        "  - `batch`: a reverb replay sample\n",
        "  - `key`: a random key.\n",
        "\n",
        "Intuitively, the `EnnPlanner` contains the code for action selection given a knowledge representation (e.g. $\\epsilon$-greedy or Thompson sampling).\n",
        "The `LossFn` describes how the agent updates its beliefs given observed data.\n",
        "\n",
        "**For many research questions these should be the only pieces of code that you need to edit.**\n",
        "- We provide example `EnnPlanner`s in the `planners/` folder.\n",
        "- We provide example `LossFn`s in the `losses/` folder.\n",
        "\n"
      ]
    },
    {
      "cell_type": "code",
      "execution_count": 5,
      "metadata": {
        "id": "JoqMQhhOoDZO"
      },
      "outputs": [],
      "source": [
        "#@title Example random planner\n",
        "\n",
        "class RandomPlanner(agent_base.EnnPlanner):\n",
        "  \"\"\"A planner selects actions randomly.\"\"\"\n",
        "\n",
        "  def __init__(self,\n",
        "               enn: enn_base.EpistemicNetwork,\n",
        "               environment_spec: specs.EnvironmentSpec,\n",
        "               seed: int = 0):\n",
        "    self.enn = enn\n",
        "    self.num_actions = environment_spec.actions.num_values\n",
        "    self.rng = hk.PRNGSequence(seed)\n",
        "\n",
        "  def select_action(self,\n",
        "                    params: hk.Params,\n",
        "                    observation: enn_base.Array) -> agent_base.Action:\n",
        "    \"\"\"Selects an action given params and observation.\"\"\"\n",
        "    action = jax.random.choice(next(self.rng), self.num_actions)\n",
        "    return acme_utils.to_numpy_squeeze(action)"
      ]
    },
    {
      "cell_type": "code",
      "execution_count": 6,
      "metadata": {
        "id": "FcIX0dMy_kYs"
      },
      "outputs": [],
      "source": [
        "#@title Example Q-learning loss forwarding a single index.\n",
        "\n",
        "@dataclasses.dataclass\n",
        "class QLearning(agent_base.LossFn):\n",
        "  \"\"\"Q learning loss implemented in enn_acme format.\"\"\"\n",
        "  discount: float = 0.99\n",
        "  \n",
        "  def __call__(self,\n",
        "               enn: enn_base.EpistemicNetwork,\n",
        "               params: hk.Params,\n",
        "               state: agent_base.LearnerState,\n",
        "               batch: reverb.ReplaySample,\n",
        "               key: enn_base.RngKey) -> Tuple[enn_base.Array, agent_base.LossMetrics]:\n",
        "    \"\"\"Compute the loss on a single batch of data, for one index.\"\"\"\n",
        "    # Parse transitions, forward ENN index\n",
        "    transitions: types.Transition = batch.data\n",
        "    index = enn.indexer(key)\n",
        "\n",
        "    # Parse q values\n",
        "    net_out_tm1 = enn.apply(params, transitions.observation, index)\n",
        "    q_tm1 = enn_utils.parse_net_output(net_out_tm1)\n",
        "    net_out_t = enn.apply(state.target_params, transitions.next_observation, index)\n",
        "    q_t = enn_utils.parse_net_output(net_out_t)\n",
        "\n",
        "    # Return mean TD error\n",
        "    d_t = (transitions.discount * self.discount).astype(jnp.float32)\n",
        "    r_t = jnp.float32(transitions.reward)\n",
        "    td_errors = jax.vmap(rlax.q_learning)(q_tm1, transitions.action, r_t, d_t, q_t)\n",
        "\n",
        "    return jnp.mean(jnp.square(td_errors)), {}"
      ]
    },
    {
      "cell_type": "markdown",
      "metadata": {
        "id": "ewgLaa0hABm8"
      },
      "source": [
        "## Example agent on bsuite\n",
        "\n",
        "In this section we provide example evaluation of a benchmark agent on [`bsuite`](https://github.com/deepmind/bsuite).\n",
        "\n",
        "> `bsuite` is a collection of carefully-designed experiments that investigate core capabilities of a reinforcement learning (RL) agent.\n",
        "\n",
        "\n"
      ]
    },
    {
      "cell_type": "code",
      "execution_count": 7,
      "metadata": {
        "id": "xBhHgxc1ADIO",
        "outputId": "993121fe-3527-440f-c5e2-173f1bc1a28e",
        "colab": {
          "base_uri": "https://localhost:8080/"
        }
      },
      "outputs": [
        {
          "output_type": "stream",
          "name": "stdout",
          "text": [
            "\u001b[1m\u001b[37mLoaded bsuite_id: catch/0.\u001b[0m\n",
            "\u001b[1m\u001b[33mLogging results to CSV file for each bsuite_id in /tmp/bsuite/dqn.\u001b[0m\n"
          ]
        }
      ],
      "source": [
        "#@title  Load an environment from bsuite, and wrap it for Acme\n",
        "SAVE_PATH = '/tmp/bsuite/dqn'\n",
        "env = bsuite.load_and_record_to_csv('catch/0', SAVE_PATH, overwrite=True)\n",
        "env = wrappers.SinglePrecisionWrapper(env)\n",
        "spec = specs.make_environment_spec(env)"
      ]
    },
    {
      "cell_type": "markdown",
      "metadata": {
        "id": "JDissrQJBZek"
      },
      "source": [
        "We define a simple single process agent in terms of:\n",
        "- `enn`: epistemic network\n",
        "- `EnnPlanner`: action selection\n",
        "- `LossFn`: how to update parameters.\n",
        "\n",
        "We will implement a simple version of \"bootstrapped DQN with randomized prior functions\":\n",
        "- Paper: https://arxiv.org/abs/1806.03335\n",
        "- Idea: Ensemble of networks, approximate Thompson sampling"
      ]
    },
    {
      "cell_type": "code",
      "execution_count": 8,
      "metadata": {
        "id": "axxbBf8AGbl-",
        "outputId": "c6b72fd9-52ea-4c1a-d3cb-8e6be530ceaf",
        "colab": {
          "base_uri": "https://localhost:8080/"
        }
      },
      "outputs": [
        {
          "output_type": "stream",
          "name": "stderr",
          "text": [
            "WARNING:absl:No GPU/TPU found, falling back to CPU. (Set TF_CPP_MIN_LOG_LEVEL=0 and rerun for more info.)\n"
          ]
        }
      ],
      "source": [
        "#@title Define an ENN from the environment spec, note we need to flatten the observation for an MLP to work.\n",
        "def _wrap_with_flatten(\n",
        "    enn: enn_base.EpistemicNetwork) -> enn_base.EpistemicNetwork:\n",
        "  \"\"\"Wraps an ENN with a flattening layer.\"\"\"\n",
        "  flatten = lambda x: jnp.reshape(x, [x.shape[0], -1])\n",
        "  return enn_base.EpistemicNetwork(\n",
        "      apply=lambda p, x, z: enn.apply(p, flatten(x), z),\n",
        "      init=lambda k, x, z: enn.init(k, flatten(x), z),\n",
        "      indexer=enn.indexer,\n",
        "  )\n",
        "\n",
        "\n",
        "def make_enn(spec: specs.EnvironmentSpec) -> enn_base.EpistemicNetwork:\n",
        "  \"\"\"Creates appropriately sized enn from environment spec.\"\"\"\n",
        "  # Ensemble of size 10 with prior functions\n",
        "  enn = networks.make_ensemble_mlp_with_prior_enn(\n",
        "      output_sizes=[50, 50, spec.actions.num_values],\n",
        "      dummy_input=jnp.ones((1,) + spec.observations.shape),\n",
        "      num_ensemble=5,\n",
        "      prior_scale=1,\n",
        "      seed=77,\n",
        "  )\n",
        "  return _wrap_with_flatten(enn)\n",
        "\n",
        "enn = make_enn(spec)"
      ]
    },
    {
      "cell_type": "code",
      "execution_count": 9,
      "metadata": {
        "id": "vE7N-3yVAknB"
      },
      "outputs": [],
      "source": [
        "# Config contains standard options like optimizer\n",
        "config = agents.AgentConfig(\n",
        "    n_step=1,\n",
        "    target_update_period=4,\n",
        "    batch_size=128,\n",
        ")\n",
        "\n",
        "# Define a clipped q learning loss, averaged over 10 samples\n",
        "single_loss = agent_losses.ClippedQlearning(discount=0.99)\n",
        "loss_fn = agent_losses.average_single_index_loss(single_loss, 10)\n",
        "\n",
        "# Use a thompson sampling planner.\n",
        "planner = planners.ThompsonQPlanner(enn)\n",
        "\n",
        "# Form the agent\n",
        "ensemble_agent = agents.EnnAgent(\n",
        "    environment_spec=spec,\n",
        "    enn=enn,\n",
        "    loss_fn=loss_fn,\n",
        "    planner=planner,\n",
        "    config=config,\n",
        ")"
      ]
    },
    {
      "cell_type": "markdown",
      "metadata": {
        "id": "jG5KDWTAEY3C"
      },
      "source": [
        "Now we can run that agent and plot the results"
      ]
    },
    {
      "cell_type": "code",
      "execution_count": 10,
      "metadata": {
        "id": "5SHryuj5ECwX"
      },
      "outputs": [],
      "source": [
        "#@title We can see that this agent does actually learn\n",
        "loop = acme.EnvironmentLoop(env, ensemble_agent)\n",
        "loop.run(num_episodes=500)"
      ]
    },
    {
      "cell_type": "code",
      "execution_count": 11,
      "metadata": {
        "id": "nHr8ccpqHETI",
        "outputId": "225fbf92-c3e1-4557-b385-4a4057d8bce1",
        "colab": {
          "base_uri": "https://localhost:8080/"
        }
      },
      "outputs": [
        {
          "output_type": "stream",
          "name": "stdout",
          "text": [
            "steps,episode,total_return,episode_len,episode_return,total_regret\n",
            "9,1,-1.0,9,-1.0,2.0\n",
            "18,2,-2.0,9,-1.0,4.0\n",
            "27,3,-3.0,9,-1.0,6.0\n",
            "36,4,-4.0,9,-1.0,8.0\n",
            "45,5,-5.0,9,-1.0,10.0\n",
            "54,6,-6.0,9,-1.0,12.0\n",
            "63,7,-7.0,9,-1.0,14.0\n",
            "72,8,-8.0,9,-1.0,16.0\n",
            "81,9,-9.0,9,-1.0,18.0\n",
            "90,10,-8.0,9,1.0,18.0\n",
            "108,12,-8.0,9,1.0,20.0\n",
            "126,14,-8.0,9,-1.0,22.0\n",
            "153,17,-11.0,9,-1.0,28.0\n",
            "180,20,-14.0,9,-1.0,34.0\n",
            "225,25,-19.0,9,-1.0,44.0\n",
            "270,30,-22.0,9,-1.0,52.0\n",
            "360,40,-30.0,9,-1.0,70.0\n",
            "450,50,-34.0,9,-1.0,84.0\n",
            "540,60,-36.0,9,-1.0,96.0\n",
            "630,70,-42.0,9,-1.0,112.0\n",
            "720,80,-44.0,9,-1.0,124.0\n",
            "810,90,-44.0,9,-1.0,134.0\n",
            "900,100,-36.0,9,1.0,136.0\n",
            "1080,120,-28.0,9,1.0,148.0\n",
            "1260,140,-8.0,9,1.0,148.0\n",
            "1530,170,14.0,9,1.0,156.0\n",
            "1800,200,44.0,9,1.0,156.0\n",
            "2250,250,94.0,9,1.0,156.0\n",
            "2700,300,144.0,9,1.0,156.0\n",
            "3600,400,236.0,9,1.0,164.0\n",
            "4500,500,336.0,9,1.0,164.0\n"
          ]
        }
      ],
      "source": [
        "#@title We can see that bsuite automatically logged the data to csv.\n",
        "!cat /tmp/bsuite/dqn/bsuite_id_-_catch-0.csv"
      ]
    },
    {
      "cell_type": "code",
      "execution_count": 12,
      "metadata": {
        "colab": {
          "height": 402,
          "base_uri": "https://localhost:8080/"
        },
        "id": "B4dNI8OkSiud",
        "outputId": "bb22ab90-bc92-4536-ac67-455be80c0111"
      },
      "outputs": [
        {
          "output_type": "display_data",
          "data": {
            "text/plain": [
              "<Figure size 700x400 with 1 Axes>"
            ],
            "image/png": "[encoded data removed]"
          },
          "metadata": {}
        },
        {
          "output_type": "execute_result",
          "data": {
            "text/plain": [
              "<ggplot: (8729911456729)>"
            ]
          },
          "metadata": {},
          "execution_count": 12
        }
      ],
      "source": [
        "#@title Plotting the agent performance through time... it learns to obtain optimal return of 1.\n",
        "DF, _ = bsuite_csv_load.load_bsuite(SAVE_PATH)\n",
        "\n",
        "p = (gg.ggplot(DF)\n",
        "     + gg.aes(x='episode', y='episode_return')\n",
        "     + gg.geom_line()\n",
        "     + gg.theme(figure_size=(7, 4))\n",
        ")\n",
        "p"
      ]
    },
    {
      "cell_type": "markdown",
      "metadata": {
        "id": "bEs8ndzXGN1d"
      },
      "source": [
        "For more information on the agents, please check the source code, reach out on Github or even twitter!"
      ]
    }
  ],
  "metadata": {
    "colab": {
      "collapsed_sections": [],
      "name": "tutorial.ipynb",
      "provenance": []
    },
    "kernelspec": {
      "display_name": "Python 3",
      "language": "python",
      "name": "python3"
    },
    "pycharm": {
      "stem_cell": {
        "cell_type": "raw",
        "metadata": {
          "collapsed": false
        },
        "source": []
      }
    }
  },
  "nbformat": 4,
  "nbformat_minor": 0
}
